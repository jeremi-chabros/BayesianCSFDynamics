{
 "cells": [
  {
   "cell_type": "code",
   "execution_count": 1,
   "metadata": {},
   "outputs": [
    {
     "name": "stderr",
     "output_type": "stream",
     "text": [
      "\u001b[32m\u001b[1m  Activating\u001b[22m\u001b[39m project at `~/BayesCSF`\n"
     ]
    },
    {
     "data": {
      "text/plain": [
       "Base.CoreLogging.SimpleLogger(VSCodeServer.IJuliaCore.IJuliaStdio{Base.PipeEndpoint, typeof(VSCodeServer.io_send_callback)}(IOContext(Base.PipeEndpoint(RawFD(19) open, 0 bytes waiting)), VSCodeServer.io_send_callback), Info, Dict{Any, Int64}())"
      ]
     },
     "metadata": {},
     "output_type": "display_data"
    }
   ],
   "source": [
    "using Pkg\n",
    "Pkg.activate(\".\")\n",
    "using Turing, CSV, EzXML, Glob, Dates, StatsPlots, HDF5, Measures, DataFrames, StatsBase, Logging\n",
    "Logging.global_logger(Logging.SimpleLogger(stdout, Logging.Error))\n"
   ]
  },
  {
   "cell_type": "code",
   "execution_count": 2,
   "metadata": {},
   "outputs": [
    {
     "name": "stderr",
     "output_type": "stream",
     "text": [
      "\u001b[32mSampling (4 threads)   0%|                              |  ETA: N/A\u001b[39m\n"
     ]
    },
    {
     "name": "stderr",
     "output_type": "stream",
     "text": [
      "\u001b[32mSampling (4 threads)  25%|███████▌                      |  ETA: 0:00:39\u001b[39m\n",
      "\u001b[32mSampling (4 threads)  50%|███████████████               |  ETA: 0:00:13\u001b[39m\n",
      "\u001b[32mSampling (4 threads)  75%|██████████████████████▌       |  ETA: 0:00:04\u001b[39m\n",
      "\u001b[32mSampling (4 threads) 100%|██████████████████████████████| Time: 0:00:13\u001b[39m\n"
     ]
    },
    {
     "name": "stderr",
     "output_type": "stream",
     "text": [
      "\u001b[90mSampling (4 threads) 100%|██████████████████████████████| Time: 0:00:13\u001b[39m\n"
     ]
    }
   ],
   "source": [
    "include(\"Utils.jl\")\n",
    "# theme(:dracula; palette=palette(:seaborn_colorblind))\n",
    "theme(:dracula)\n",
    "\n",
    "datapath = \"/Users/jjc/CSF/Recordings/\"\n",
    "path = pwd();\n",
    "savepath = \"/Users/jjc/CSF/\"\n",
    "files = glob(\"*.hdf5\", datapath)\n",
    "\n",
    "# fid = 278\n",
    "# global Data = readCSF(files[fid])\n",
    "global Data = readCSF(\"/Users/jjc/CSF/Recordings/inf_20180504120604.hdf5\")\n",
    "# global Data = readCSF(\"/Users/jjc/CSF/Recordings/inf_20170118113759_INF2.hdf5\")\n",
    "# global Data = readCSF(\"/Users/jjc/CSF/Recordings/inf_20101213150719_INF2.hdf5\")\n",
    "\n",
    "icp = Data[\"ICP\"][Data[\"infusion_start_frame\"]:Data[\"infusion_end_frame\"]]\n",
    "icp = icp[.~isnan.(icp)]\n",
    "\n",
    "# Priors and bounds\n",
    "global params_means = [10.45, 0.33, 7.5]\n",
    "global params_stddevs = [2.03, 0.08, 1.5]\n",
    "global lower_bounds = [0.01, 0.01, -10.0]\n",
    "global upper_bounds = [50.0, 1.0, Data[\"P_b\"]]\n",
    "global Ib_max = 1.0\n",
    "global Ib_min = 0.01\n",
    "\n",
    "# Turing.jl settings\n",
    "sampler = NUTS()\n",
    "# sampler = MH()\n",
    "num_samples = 100\n",
    "num_chains = 4\n",
    "\n",
    "# Sampling\n",
    "x0 = [0.33, 7.5, 10.45, 1.0]\n",
    "# chain = sample(curve_fitting(icp), sampler, MCMCThreads(), num_samples, num_chains, init_params=Iterators.repeated(x0))\n",
    "chain = sample(curve_fitting(icp), sampler, MCMCThreads(), num_samples, num_chains);\n",
    ";"
   ]
  },
  {
   "cell_type": "code",
   "execution_count": null,
   "metadata": {},
   "outputs": [],
   "source": [
    "res_summary = DataFrame(summarize(chain))\n",
    "E_mean, P0_mean, Rout_mean = res_summary.mean[1:3]\n",
    "Ib_chain = (Data[\"P_b\"] .- chain[:P0]) ./ chain[:Rout]\n",
    "Ib_mean = (Data[\"P_b\"] - P0_mean) / Rout_mean\n",
    "\n",
    "NRMSE_Bayes_mean = round(calc_model_plot(Ib_mean, E_mean, P0_mean, P0_mean)[2], digits=3)\n",
    "NRMSE_GD = round(calc_model_plot(Data[\"I_b\"], Data[\"E\"], Data[\"P_0\"], Data[\"P_0\"])[2], digits=3)\n",
    "\n",
    "plotmodel(Ib_mean, E_mean, P0_mean, P0_mean, zeros(3), zeros(3), \"dark\", \"\")\n",
    "\n",
    "title!(\n",
    "    \"Resistance to CSF outflow = $(round(Rout_mean,digits=2)) ± $(round(std(chain[:Rout]), digits=2)) [mmHg/mL/min]\\n\" *\n",
    "    \"Elasticity coefficient = $(round(E_mean,digits=2)) ± $(round(std(chain[:E]), digits=2)) [1/mL]\\n\" *\n",
    "    \"Reference pressure = $(round(P0_mean,digits=2)) ± $(round(std(chain[:P0]), digits=2)) [mmHg]\\n\" *\n",
    "    \"CSF production rate = $(round(Ib_mean,digits=2)) ± $(round(std(Ib_chain), digits=2)) [mL/min]\\n\" *\n",
    "    \"Error (Bayesian) = $NRMSE_Bayes_mean\\n\" *\n",
    "    \"Error (Gradient descent) = $NRMSE_GD\\n\",\n",
    "    grid=true,\n",
    "    size=(700, 500),\n",
    "    dpi=300,\n",
    "    margin=10mm,\n",
    "    legend=:topleft\n",
    ")"
   ]
  },
  {
   "cell_type": "code",
   "execution_count": null,
   "metadata": {},
   "outputs": [],
   "source": [
    "dicp = diff(icp)\n",
    "\n",
    "moving_average(vs,n) = [sum(@view vs[i:(i+n-1)])/n for i in 1:(length(vs)-(n-1))]\n",
    "\n",
    "icp = Data[\"ICP\"][1:Data[\"plateau_end\"]]\n",
    "icp_smooth = moving_average(icp, 30)\n",
    "d_icp_smooth = diff(icp_smooth)\n",
    "\n",
    "# plot(dicp, icp[2:end], seriestype=:scatter, xlabel=\"dICP\", ylabel=\"ICP\")\n",
    "\n",
    "plot(d_icp_smooth, icp_smooth[2:end], seriestype=:scatter, xlabel=\"dICP\", ylabel=\"ICP\")\n",
    "\n",
    "X = hcat(d_icp_smooth, icp_smooth[2:end])\n"
   ]
  },
  {
   "cell_type": "code",
   "execution_count": null,
   "metadata": {},
   "outputs": [],
   "source": [
    "using Clustering\n",
    "\n",
    "res = kmeans(X', 3)\n",
    "\n",
    "res_ass = res.assignments\n",
    "\n",
    "sc = scatter(d_icp_smooth, icp_smooth, color=res_ass,\n",
    "        xlabel=\"dICP\", ylabel=\"ICP\",\n",
    "        title=\"K-means Clustering Results\", legend=false)\n",
    "\n",
    "lp = plot(icp_smooth, color=res_ass, xlabel=\"Time\", ylabel=\"ICP\", legend=false)\n",
    "\n",
    "\n",
    "plot(sc, lp, layout=(2,1))"
   ]
  },
  {
   "cell_type": "code",
   "execution_count": null,
   "metadata": {},
   "outputs": [],
   "source": [
    "plot(icp_smooth, color=res_ass)"
   ]
  },
  {
   "cell_type": "code",
   "execution_count": null,
   "metadata": {},
   "outputs": [],
   "source": [
    "# using Pkg\n",
    "\n",
    "ENV[\"PYTHON\"] = \"/opt/homebrew/Caskroom/miniforge/base/bin/python\"\n",
    "theme(:dracula; palette=palette(:seaborn_colorblind))\n",
    "# Pkg.activate(\".\")\n",
    "# Pkg.build(\"PyCall\")\n",
    "using HDBSCAN, Clustering, PyCall\n",
    "\n",
    "\n",
    "res = hdbscan(X', min_cluster_size=15, min_samples=3)\n",
    "res_ass = res.assignments\n",
    "\n",
    "sc = scatter(d_icp_smooth, icp_smooth, color=res_ass,\n",
    "    xlabel=\"dICP\", ylabel=\"ICP\",\n",
    "    title=\"Clustering Results\", legend=false)\n",
    "\n",
    "lp = plot(icp_smooth, color=res_ass, xlabel=\"Time\", ylabel=\"ICP\", legend=false)\n",
    "\n",
    "\n",
    "plot(sc, lp, layout=(2, 1))\n",
    "\n"
   ]
  }
 ],
 "metadata": {
  "kernelspec": {
   "display_name": "Julia 1.9.1",
   "language": "julia",
   "name": "julia-1.9"
  },
  "language_info": {
   "file_extension": ".jl",
   "mimetype": "application/julia",
   "name": "julia",
   "version": "1.9.1"
  },
  "orig_nbformat": 4
 },
 "nbformat": 4,
 "nbformat_minor": 2
}
